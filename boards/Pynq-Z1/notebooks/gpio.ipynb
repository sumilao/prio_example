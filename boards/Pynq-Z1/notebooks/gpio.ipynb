{
 "cells": [
  {
   "cell_type": "markdown",
   "metadata": {},
   "source": [
    "# GPIO Demo\n",
    "This demo shows how to use the Xilinx's MMIO driver for partial reconfigurable modules."
   ]
  },
  {
   "cell_type": "markdown",
   "metadata": {},
   "source": [
    "## Download the static bitstream\n",
    "Notice that the full path to the bitstream must be provided when the bitstream isn't in the same directory as the notebook."
   ]
  },
  {
   "cell_type": "code",
   "execution_count": 1,
   "metadata": {},
   "outputs": [
    {
     "data": {
      "application/javascript": [
       "\n",
       "require(['notebook/js/codecell'], function(codecell) {\n",
       "  codecell.CodeCell.options_default.highlight_modes[\n",
       "      'magic_text/x-csrc'] = {'reg':[/^%%microblaze/]};\n",
       "  Jupyter.notebook.events.one('kernel_ready.Kernel', function(){\n",
       "      Jupyter.notebook.get_cells().map(function(cell){\n",
       "          if (cell.cell_type == 'code'){ cell.auto_highlight(); } }) ;\n",
       "  });\n",
       "});\n"
      ]
     },
     "metadata": {},
     "output_type": "display_data"
    },
    {
     "name": "stdout",
     "output_type": "stream",
     "text": [
      "/usr/local/lib/python3.6/dist-packages/pynq/lib/rpi/bsp_iop_rpi/system.mss not found: using default cflags\n",
      "/usr/local/lib/python3.6/dist-packages/pynq/lib/arduino/bsp_iop_arduino/system.mss not found: using default cflags\n",
      "/usr/local/lib/python3.6/dist-packages/pynq/lib/pmod/bsp_iop_pmod/system.mss not found: using default cflags\n"
     ]
    }
   ],
   "source": [
    "from pynq import Overlay\n",
    "\n",
    "# constants refering to the full paths for both the full and partial bitstreams\n",
    "FULL_BITSTREAM_PATH = \"/usr/local/lib/python3.6/dist-packages/prio/\"\n",
    "PARTIAL_BITSTREAM_PATH = \"/usr/local/lib/python3.6/dist-packages/prio/partial/\"\n",
    "\n",
    "# Returns the a static overlay for Partial Reconfiguration Input/Output\n",
    "# and downloads the static bitstream to the FPGA\n",
    "overlay = Overlay(FULL_BITSTREAM_PATH + \"prio.bit\")"
   ]
  },
  {
   "cell_type": "markdown",
   "metadata": {},
   "source": [
    "## Set up the reconfigurable region\n",
    "Notice that as with the full bitstream, the full path to the partial bitstream must be provided when is located outside of the current notebook's directory.\n"
   ]
  },
  {
   "cell_type": "code",
   "execution_count": 19,
   "metadata": {},
   "outputs": [],
   "source": [
    "# Downloads the gpio bitstream in region 0\n",
    "# These two lines must be called together\n",
    "overlay.set_partial_region('pr_0')\n",
    "overlay.download(PARTIAL_BITSTREAM_PATH + 'pr_0_gpio.bit')\n",
    "\n",
    "\n",
    "# Returns an instance of an MMIO driver object that we will use for GPIO.\n",
    "# Note, that for a few IP cores, Xilinx has their own associated drivers,\n",
    "# and although GPIO is one of these, we will be using the MMIO driver it\n",
    "# inherits from in this demo to expose the functionality of the generic \n",
    "# MMIO driver.\n",
    "gpio0 = overlay.pr_0.axi_gpio_0.mmio"
   ]
  },
  {
   "cell_type": "markdown",
   "metadata": {},
   "source": [
    "## MMIO Demos\n",
    "The following Demos use MMIO to read and write to the registers in the GPIO hardware inside different PR regions."
   ]
  },
  {
   "cell_type": "markdown",
   "metadata": {},
   "source": [
    "## Demo: Constant Output\n",
    "Outputs a constant output in **`pr_0`**\n",
    "\n",
    "** Hardware Setup:** For this demo, we suggest using at least one LED to check the output of every pin. These LEDs should be hooked up to arduino pins 0-7."
   ]
  },
  {
   "cell_type": "code",
   "execution_count": 20,
   "metadata": {},
   "outputs": [],
   "source": [
    "# Constants for register offsets\n",
    "DATA_OFFSET = \t0x00\n",
    "TRI_OFFSET  =\t0x04\n",
    "\n",
    "# Convenient constants for setting the tri-state buffers\n",
    "ALL_INPUTS  = \t0xFFFF\n",
    "ALL_OUTPUTS =   0x00\n",
    "\n",
    "# Desired pattern of gpio output.\n",
    "LED_PATTERN = 0b10101010\n",
    "\n",
    "# Sets the direction of all pins in region 0 to output.\n",
    "gpio0.write(TRI_OFFSET, ALL_OUTPUTS)\n",
    "\n",
    "#sets the value of all the pins in region 0 so everyother pin is high.\n",
    "gpio0.write(DATA_OFFSET, LED_PATTERN)"
   ]
  },
  {
   "cell_type": "markdown",
   "metadata": {},
   "source": [
    "## Demo: Binary Counter\n",
    "Uses LEDs to output a binary counter from **`pr_0`**.\n",
    "\n",
    "** Hardware Setup:** This Demo should use the same LED setup as the **`Constant Output`** Demo"
   ]
  },
  {
   "cell_type": "code",
   "execution_count": 21,
   "metadata": {},
   "outputs": [],
   "source": [
    "import time\n",
    "\n",
    "OUTPUTS_OFF = 0b0\n",
    "\n",
    "# Sets the direction of all pins in region 0 to  output.\n",
    "gpio0.write(TRI_OFFSET, ALL_OUTPUTS)\n",
    "\n",
    "# Counts from 0 to 15 in binary\n",
    "for output in range(0, 16):\n",
    "    \n",
    "    gpio0.write(DATA_OFFSET,output)\n",
    "    \n",
    "    #pauses for a half second\n",
    "    time.sleep(0.5)\n",
    "    \n",
    "#sets the value of all the pins in region 0 so everyother pin is high.\n",
    "gpio0.write(DATA_OFFSET, OUTPUTS_OFF)"
   ]
  },
  {
   "cell_type": "markdown",
   "metadata": {},
   "source": [
    "## Demo: Blink Test\n",
    "The following demonstrates the Input and Output functionalities of GPIO interface by toggling the value on Arduino pin 8, and reading that value from Arduino pin 34. This value will then be echoed to Arduino pin 0.\n",
    "\n",
    "** Hardware Setup:** Keep an LED on Arduino pin 0. Connect a wire from Arduino pin 8 to Arduino pin 34.\n",
    "\n",
    "The LED on Arduino pin 0 should toggle on and off."
   ]
  },
  {
   "cell_type": "markdown",
   "metadata": {},
   "source": [
    "### Setup additional reconfigurable regions\n",
    "Since this demo requires two additional PR regions, we must set them up with the following code."
   ]
  },
  {
   "cell_type": "code",
   "execution_count": 22,
   "metadata": {},
   "outputs": [],
   "source": [
    "overlay.set_partial_region('pr_1')\n",
    "overlay.download(PARTIAL_BITSTREAM_PATH + 'pr_1_gpio.bit')\n",
    "gpio1 = overlay.pr_1.axi_gpio_0.mmio\n",
    "\n",
    "overlay.set_partial_region('pr_3')\n",
    "overlay.download(PARTIAL_BITSTREAM_PATH + 'pr_3_gpio.bit')\n",
    "gpio3 = overlay.pr_3.axi_gpio_0.mmio"
   ]
  },
  {
   "cell_type": "code",
   "execution_count": 23,
   "metadata": {},
   "outputs": [
    {
     "name": "stdout",
     "output_type": "stream",
     "text": [
      "off\n",
      "on\n",
      "off\n",
      "on\n",
      "off\n",
      "on\n",
      "off\n",
      "on\n",
      "off\n",
      "on\n",
      "off\n",
      "on\n",
      "off\n",
      "on\n",
      "off\n",
      "on\n",
      "off\n",
      "on\n",
      "off\n",
      "on\n"
     ]
    }
   ],
   "source": [
    "import time\n",
    "\n",
    "# Since only the right most pin is needed as an output\n",
    "# for the LEDs, that one is set to an output(0), while\n",
    "# the rest are set to inputs (1).\n",
    "gpio0.write(TRI_OFFSET, 0xe)\n",
    "\n",
    "# Configure pr_1 as with all outputs\n",
    "gpio1.write(TRI_OFFSET, ALL_OUTPUTS)\n",
    "# Configure pr_2 as with all inputs\n",
    "gpio3.write(TRI_OFFSET, ALL_INPUTS)\n",
    "\n",
    "# initialize the led value to off\n",
    "led_value = 0\n",
    "\n",
    "# Blink LED for 10s\n",
    "for i in range(20):\n",
    "    # pauses for 0.5 seconds\n",
    "    time.sleep(0.5)\n",
    "    #writes the ledValue to pr_1\n",
    "    gpio1.write(DATA_OFFSET,led_value)\n",
    "    #toggles the led_value variable\n",
    "    led_value = led_value ^ 0b10000001\n",
    "    \n",
    "    #reads the value from pr_3\n",
    "    val = gpio3.read(DATA_OFFSET) & 0x01\n",
    "    \n",
    "    #writes the value to pr_0\n",
    "    gpio0.write(DATA_OFFSET, val)\n",
    "    #indicates if the led should be on or off.\n",
    "    if val:\n",
    "        print('on')\n",
    "    else:\n",
    "        print('off')\n",
    "    "
   ]
  },
  {
   "cell_type": "markdown",
   "metadata": {},
   "source": [
    "## The Use of a Wrapper Class\n",
    "MMIO can be far easier to use when its wrapped inside of a class. Below is a simple class that uses the MMIO driver from the partial regions to set the tri-state buffer and read and write values."
   ]
  },
  {
   "cell_type": "code",
   "execution_count": 9,
   "metadata": {},
   "outputs": [],
   "source": [
    "class GPIO():\t\n",
    "    # Constants for register offsets\n",
    "\tDATA_OFFSET = \t0x00\n",
    "\tTRI_OFFSET =\t0x04\n",
    "\t \n",
    "    # Convenient constants for setting the direction of tri-state buffers\n",
    "\tALL_INPUTS = \t0xFFFF\n",
    "\tALL_OUTPUTS = \t0x0000\n",
    "\n",
    "    \n",
    "    # Extracts the mmio driver from the PR region assuming\n",
    "    # that Xilinx's driver associated with the AXI interface\n",
    "    # is named \"axi_gpio_0\"\n",
    "\tdef __init__(self, partial_region):\n",
    "\t\tself._mmio = partial_region.axi_gpio_0.mmio\n",
    "\n",
    "    # Used to set the directions of the tri-state buffers\n",
    "\tdef setDirection(self, direction):\n",
    "\t\tself._mmio.write(self.TRI_OFFSET, direction)\n",
    "\n",
    "    # Used to retrieve the directions of the tri-state buffers\n",
    "\tdef getDirection(self):\n",
    "\t\treturn self._mmio.read(self.TRI_OFFSET)\n",
    "\n",
    "    # Used to set the value of pins when the tri-state buffers are\n",
    "    # set as outputs\n",
    "\tdef setValue(self, value):\n",
    "\t\tself._mmio.write(self.DATA_OFFSET, value)\n",
    "        \n",
    "    # Used to retrieve the value of pins when the tri-state buffers are\n",
    "    # set as inputs\n",
    "\tdef getValue(self):\n",
    "\t\treturn self._mmio.read(self.DATA_OFFSET)"
   ]
  },
  {
   "cell_type": "markdown",
   "metadata": {},
   "source": [
    "## GPIO Wrapper Demos\n",
    "Below are all of the demos repeated with the GPIO wrapper class. There are a few extra peculiarities that should be noted."
   ]
  },
  {
   "cell_type": "markdown",
   "metadata": {},
   "source": [
    "## Demo: Constant Output\n",
    "Outputs a constant output in **`pr_0`**\n",
    "\n",
    "** Hardware Setup:** For this demo, we suggest using at least one LED to check the output of every pin. These LEDs should be hooked up to arduino pins 0-7."
   ]
  },
  {
   "cell_type": "code",
   "execution_count": 10,
   "metadata": {},
   "outputs": [],
   "source": [
    "# Downloads the gpio bitstream in region 0\n",
    "# These two lines must be called together\n",
    "overlay.set_partial_region('pr_0')\n",
    "overlay.download(PARTIAL_BITSTREAM_PATH + 'pr_0_gpio.bit')\n",
    "\n",
    "# Returns an instance of our GPIO driver that we will use for GPIO.\n",
    "# Notice that the partial region is passed in from the overlay\n",
    "gpio0 = GPIO(overlay.pr_0)"
   ]
  },
  {
   "cell_type": "code",
   "execution_count": 11,
   "metadata": {},
   "outputs": [],
   "source": [
    "# Desired pattern of gpio output.\n",
    "LED_PATTERN = 0b1010\n",
    "\n",
    "# Sets the direction of all pins in region 0 to output.\n",
    "gpio0.setDirection(ALL_OUTPUTS)\n",
    "\n",
    "#sets the value of all the pins in region 0 so every other pin is high.\n",
    "gpio0.setValue(LED_PATTERN)"
   ]
  },
  {
   "cell_type": "markdown",
   "metadata": {},
   "source": [
    "## Demo: Binary Counter\n",
    "Uses LEDs to output a binary counter from **`pr_0`**.\n",
    "\n",
    "** Hardware Setup:** This Demo should use the same LED setup as the **`Constant Output`** Demo"
   ]
  },
  {
   "cell_type": "code",
   "execution_count": 12,
   "metadata": {},
   "outputs": [],
   "source": [
    "import time\n",
    "\n",
    "# Sets the direction of all pins in region 0 to output.\n",
    "gpio0.setDirection(ALL_OUTPUTS)\n",
    "\n",
    "# Counts from 0 to 15 in binary\n",
    "for output in range(0, 16):\n",
    "    \n",
    "    gpio0.setValue(output)\n",
    "    \n",
    "    #pauses for a half second\n",
    "    time.sleep(0.5)"
   ]
  },
  {
   "cell_type": "markdown",
   "metadata": {},
   "source": [
    "## Demo: Blink Test\n",
    "The following demonstrates the Input and Output functionalities of GPIO interface by toggling the value on Arduino pin 8, and reading that value from Arduino pin 34. This value will then be echoed to Arduino pin 0.\n",
    "\n",
    "** Hardware Setup:** Keep an LED on Arduino pin 0. Connect a wire from Arduino pin 8 to Arduino pin 34.\n",
    "\n",
    "The LED on Arduino pin 0 should toggle on and off."
   ]
  },
  {
   "cell_type": "markdown",
   "metadata": {},
   "source": [
    "### Setup additional reconfigurable regions\n",
    "Since this demo requires two additional PR regions, we must set them up with the following code."
   ]
  },
  {
   "cell_type": "markdown",
   "metadata": {},
   "source": [
    "**IMPORTANT:** It's important to note below that after a partial region is set up, and a bitstream for that region is downloaded, the GPIO driver must be instantiated before another partial region is set up. Once another partial region is setup, the previous one will lose it's GPIO driver, and will have a generic MMIO axi interface driver. "
   ]
  },
  {
   "cell_type": "code",
   "execution_count": 13,
   "metadata": {},
   "outputs": [],
   "source": [
    "overlay.set_partial_region('pr_1')\n",
    "overlay.download(PARTIAL_BITSTREAM_PATH + 'pr_1_gpio.bit')\n",
    "gpio1 = GPIO(overlay.pr_1)\n",
    "\n",
    "overlay.set_partial_region('pr_3')\n",
    "overlay.download(PARTIAL_BITSTREAM_PATH + 'pr_3_gpio.bit')\n",
    "gpio3 = GPIO(overlay.pr_3)"
   ]
  },
  {
   "cell_type": "code",
   "execution_count": 15,
   "metadata": {},
   "outputs": [
    {
     "name": "stdout",
     "output_type": "stream",
     "text": [
      "0\n",
      "off\n",
      "1\n",
      "on\n",
      "0\n",
      "off\n",
      "1\n",
      "on\n",
      "0\n",
      "off\n",
      "1\n",
      "on\n",
      "0\n",
      "off\n",
      "1\n",
      "on\n",
      "0\n",
      "off\n",
      "1\n",
      "on\n"
     ]
    }
   ],
   "source": [
    "import time\n",
    "\n",
    "gpio0.setDirection(0xe)\n",
    "\n",
    "# Configure as output\n",
    "gpio1.setDirection(ALL_OUTPUTS)\n",
    "gpio3.setDirection(ALL_INPUTS)\n",
    "\n",
    "# Blink LED for 10s\n",
    "led_value = 0\n",
    "\n",
    "for i in range(10):\n",
    "    time.sleep(0.5)\n",
    "    gpio1.setValue(led_value)\n",
    "    led_value = led_value ^ 0b10000001\n",
    "    \n",
    "    val = gpio3.getValue() & 0x01\n",
    "    \n",
    "    gpio0.setValue(val)\n",
    "    print(val)\n",
    "    if val:\n",
    "        print('on')\n",
    "    else:\n",
    "        print('off')\n",
    "    "
   ]
  },
  {
   "cell_type": "code",
   "execution_count": null,
   "metadata": {},
   "outputs": [],
   "source": []
  }
 ],
 "metadata": {
  "kernelspec": {
   "display_name": "Python 3",
   "language": "python",
   "name": "python3"
  },
  "language_info": {
   "codemirror_mode": {
    "name": "ipython",
    "version": 3
   },
   "file_extension": ".py",
   "mimetype": "text/x-python",
   "name": "python",
   "nbconvert_exporter": "python",
   "pygments_lexer": "ipython3",
   "version": "3.6.5"
  }
 },
 "nbformat": 4,
 "nbformat_minor": 2
}
