{
 "cells": [
  {
   "cell_type": "markdown",
   "metadata": {},
   "source": [
    "# LED Pattern Demo\n",
    "This Demo shows how to download a partial bitstream"
   ]
  },
  {
   "cell_type": "markdown",
   "metadata": {},
   "source": [
    "## Download the static bitstream\n",
    "Notice that the full path to the bitstream must be provided when the bitstream isn't in the same directory as the notebook."
   ]
  },
  {
   "cell_type": "code",
   "execution_count": 3,
   "metadata": {},
   "outputs": [],
   "source": [
    "from prio import PrIoOverlay\n",
    "\n",
    "# constants refering to the full paths for both the full and partial bitstreams\n",
    "FULL_BITSTREAM_PATH = \"/usr/local/lib/python3.6/dist-packages/prio/\"\n",
    "PARTIAL_BITSTREAM_PATH = \"/usr/local/lib/python3.6/dist-packages/prio/partial/\"\n",
    "\n",
    "# Returns the a static overlay for Partial Reconfiguration Input/Output\n",
    "# and downloads the static bitstream to the FPGA\n",
    "overlay = PrIoOverlay(FULL_BITSTREAM_PATH + \"prio.bit\")"
   ]
  },
  {
   "cell_type": "markdown",
   "metadata": {},
   "source": [
    "## Demo: LED Pattern\n",
    "The fixed LED Pattern bitstream is loaded into each region. The pattern causes every other IO pin to be high.\n",
    "\n",
    "Notice that as with the full bitstream, the full path to the partial bitstream must be provided when is located outside of the current notebook's directory.\n",
    "\n",
    "** Hardware Setup:** Use an LED or a voltmeter to test each pin and see the pattern."
   ]
  },
  {
   "cell_type": "code",
   "execution_count": 4,
   "metadata": {},
   "outputs": [],
   "source": [
    "# Loads a partial bitstreams that have fixed LED pattern to each region.\n",
    "# This casuses the pattern 1010 to appear on:\n",
    "# pr_0: Upper pins in PMOD 0\n",
    "# pr_1: lower pins in PMOD 0\n",
    "# pr_2: Upper pins in PMOD 1\n",
    "# pr_3: lower pins in PMOD 1\n",
    "\n",
    "\n",
    "# The overlay.set_parital_region function and the overlay.download functions\n",
    "# must be called concurrently\n",
    "overlay.set_partial_region('pr_0')\n",
    "overlay.download(PARTIAL_BITSTREAM_PATH + 'pr_0_led_pattern.bit')\n",
    "\n",
    "overlay.set_partial_region('pr_1')\n",
    "overlay.download(PARTIAL_BITSTREAM_PATH + 'pr_1_led_pattern.bit')\n",
    "\n",
    "overlay.set_partial_region('pr_2')\n",
    "overlay.download(PARTIAL_BITSTREAM_PATH + 'pr_2_led_pattern.bit')\n",
    "\n",
    "overlay.set_partial_region('pr_3')\n",
    "overlay.download(PARTIAL_BITSTREAM_PATH + 'pr_3_led_pattern.bit')"
   ]
  },
  {
   "cell_type": "code",
   "execution_count": null,
   "metadata": {},
   "outputs": [],
   "source": []
  }
 ],
 "metadata": {
  "kernelspec": {
   "display_name": "Python 3",
   "language": "python",
   "name": "python3"
  },
  "language_info": {
   "codemirror_mode": {
    "name": "ipython",
    "version": 3
   },
   "file_extension": ".py",
   "mimetype": "text/x-python",
   "name": "python",
   "nbconvert_exporter": "python",
   "pygments_lexer": "ipython3",
   "version": "3.6.5"
  }
 },
 "nbformat": 4,
 "nbformat_minor": 2
}
